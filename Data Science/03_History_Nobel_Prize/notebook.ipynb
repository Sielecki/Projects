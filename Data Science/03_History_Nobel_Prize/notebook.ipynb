{
 "cells": [
  {
   "cell_type": "markdown",
   "id": "db5bd2ce-918a-4f7d-a927-a3ea74c4b456",
   "metadata": {},
   "source": [
    "The Nobel Prize has been among the most prestigious international awards since 1901. Each year, awards are bestowed in chemistry, literature, physics, physiology or medicine, economics, and peace. In addition to the honor, prestige, and substantial prize money, the recipient also gets a gold medal with an image of Alfred Nobel (1833 - 1896), who established the prize.\n",
    "\n",
    "![](./Images/Nobel_Prize.png)\n",
    "\n",
    "The Nobel Foundation has made a dataset available of all prize winners from the outset of the awards from 1901 to 2023. The dataset used in this project is from the Nobel Prize API and is available in the `nobel.csv` file in the `data` folder.\n",
    "\n",
    "In this project, you'll get a chance to explore and answer several questions related to this prizewinning data. And we encourage you then to explore further questions that you're interested in!"
   ]
  },
  {
   "cell_type": "code",
   "execution_count": 224,
   "id": "11fd5946-7bd1-495c-aa7f-ff6e7e4a350b",
   "metadata": {},
   "outputs": [
    {
     "data": {
      "application/vnd.microsoft.datawrangler.viewer.v0+json": {
       "columns": [
        {
         "name": "index",
         "rawType": "int64",
         "type": "integer"
        },
        {
         "name": "year",
         "rawType": "int64",
         "type": "integer"
        },
        {
         "name": "category",
         "rawType": "object",
         "type": "string"
        },
        {
         "name": "prize",
         "rawType": "object",
         "type": "string"
        },
        {
         "name": "motivation",
         "rawType": "object",
         "type": "unknown"
        },
        {
         "name": "prize_share",
         "rawType": "object",
         "type": "string"
        },
        {
         "name": "laureate_id",
         "rawType": "int64",
         "type": "integer"
        },
        {
         "name": "laureate_type",
         "rawType": "object",
         "type": "string"
        },
        {
         "name": "full_name",
         "rawType": "object",
         "type": "string"
        },
        {
         "name": "birth_date",
         "rawType": "object",
         "type": "string"
        },
        {
         "name": "birth_city",
         "rawType": "object",
         "type": "string"
        },
        {
         "name": "birth_country",
         "rawType": "object",
         "type": "string"
        },
        {
         "name": "sex",
         "rawType": "object",
         "type": "string"
        },
        {
         "name": "organization_name",
         "rawType": "object",
         "type": "unknown"
        },
        {
         "name": "organization_city",
         "rawType": "object",
         "type": "unknown"
        },
        {
         "name": "organization_country",
         "rawType": "object",
         "type": "unknown"
        },
        {
         "name": "death_date",
         "rawType": "object",
         "type": "string"
        },
        {
         "name": "death_city",
         "rawType": "object",
         "type": "string"
        },
        {
         "name": "death_country",
         "rawType": "object",
         "type": "string"
        },
        {
         "name": "decade",
         "rawType": "int64",
         "type": "integer"
        }
       ],
       "ref": "e2b319ef-d0bd-4e94-99d7-8deba0b925cd",
       "rows": [
        [
         "0",
         "1901",
         "Chemistry",
         "The Nobel Prize in Chemistry 1901",
         "\"in recognition of the extraordinary services he has rendered by the discovery of the laws of chemical dynamics and osmotic pressure in solutions\"",
         "1/1",
         "160",
         "Individual",
         "Jacobus Henricus van 't Hoff",
         "1852-08-30",
         "Rotterdam",
         "Netherlands",
         "Male",
         "Berlin University",
         "Berlin",
         "Germany",
         "1911-03-01",
         "Berlin",
         "Germany",
         "1900"
        ],
        [
         "1",
         "1901",
         "Literature",
         "The Nobel Prize in Literature 1901",
         "\"in special recognition of his poetic composition, which gives evidence of lofty idealism, artistic perfection and a rare combination of the qualities of both heart and intellect\"",
         "1/1",
         "569",
         "Individual",
         "Sully Prudhomme",
         "1839-03-16",
         "Paris",
         "France",
         "Male",
         null,
         null,
         null,
         "1907-09-07",
         "Châtenay",
         "France",
         "1900"
        ],
        [
         "2",
         "1901",
         "Medicine",
         "The Nobel Prize in Physiology or Medicine 1901",
         "\"for his work on serum therapy, especially its application against diphtheria, by which he has opened a new road in the domain of medical science and thereby placed in the hands of the physician a victorious weapon against illness and deaths\"",
         "1/1",
         "293",
         "Individual",
         "Emil Adolf von Behring",
         "1854-03-15",
         "Hansdorf (Lawice)",
         "Prussia (Poland)",
         "Male",
         "Marburg University",
         "Marburg",
         "Germany",
         "1917-03-31",
         "Marburg",
         "Germany",
         "1900"
        ],
        [
         "3",
         "1901",
         "Peace",
         "The Nobel Peace Prize 1901",
         null,
         "1/2",
         "462",
         "Individual",
         "Jean Henry Dunant",
         "1828-05-08",
         "Geneva",
         "Switzerland",
         "Male",
         null,
         null,
         null,
         "1910-10-30",
         "Heiden",
         "Switzerland",
         "1900"
        ],
        [
         "4",
         "1901",
         "Peace",
         "The Nobel Peace Prize 1901",
         null,
         "1/2",
         "463",
         "Individual",
         "Frédéric Passy",
         "1822-05-20",
         "Paris",
         "France",
         "Male",
         null,
         null,
         null,
         "1912-06-12",
         "Paris",
         "France",
         "1900"
        ]
       ],
       "shape": {
        "columns": 19,
        "rows": 5
       }
      },
      "text/html": [
       "<div>\n",
       "<style scoped>\n",
       "    .dataframe tbody tr th:only-of-type {\n",
       "        vertical-align: middle;\n",
       "    }\n",
       "\n",
       "    .dataframe tbody tr th {\n",
       "        vertical-align: top;\n",
       "    }\n",
       "\n",
       "    .dataframe thead th {\n",
       "        text-align: right;\n",
       "    }\n",
       "</style>\n",
       "<table border=\"1\" class=\"dataframe\">\n",
       "  <thead>\n",
       "    <tr style=\"text-align: right;\">\n",
       "      <th></th>\n",
       "      <th>year</th>\n",
       "      <th>category</th>\n",
       "      <th>prize</th>\n",
       "      <th>motivation</th>\n",
       "      <th>prize_share</th>\n",
       "      <th>laureate_id</th>\n",
       "      <th>laureate_type</th>\n",
       "      <th>full_name</th>\n",
       "      <th>birth_date</th>\n",
       "      <th>birth_city</th>\n",
       "      <th>birth_country</th>\n",
       "      <th>sex</th>\n",
       "      <th>organization_name</th>\n",
       "      <th>organization_city</th>\n",
       "      <th>organization_country</th>\n",
       "      <th>death_date</th>\n",
       "      <th>death_city</th>\n",
       "      <th>death_country</th>\n",
       "      <th>decade</th>\n",
       "    </tr>\n",
       "  </thead>\n",
       "  <tbody>\n",
       "    <tr>\n",
       "      <th>0</th>\n",
       "      <td>1901</td>\n",
       "      <td>Chemistry</td>\n",
       "      <td>The Nobel Prize in Chemistry 1901</td>\n",
       "      <td>\"in recognition of the extraordinary services ...</td>\n",
       "      <td>1/1</td>\n",
       "      <td>160</td>\n",
       "      <td>Individual</td>\n",
       "      <td>Jacobus Henricus van 't Hoff</td>\n",
       "      <td>1852-08-30</td>\n",
       "      <td>Rotterdam</td>\n",
       "      <td>Netherlands</td>\n",
       "      <td>Male</td>\n",
       "      <td>Berlin University</td>\n",
       "      <td>Berlin</td>\n",
       "      <td>Germany</td>\n",
       "      <td>1911-03-01</td>\n",
       "      <td>Berlin</td>\n",
       "      <td>Germany</td>\n",
       "      <td>1900</td>\n",
       "    </tr>\n",
       "    <tr>\n",
       "      <th>1</th>\n",
       "      <td>1901</td>\n",
       "      <td>Literature</td>\n",
       "      <td>The Nobel Prize in Literature 1901</td>\n",
       "      <td>\"in special recognition of his poetic composit...</td>\n",
       "      <td>1/1</td>\n",
       "      <td>569</td>\n",
       "      <td>Individual</td>\n",
       "      <td>Sully Prudhomme</td>\n",
       "      <td>1839-03-16</td>\n",
       "      <td>Paris</td>\n",
       "      <td>France</td>\n",
       "      <td>Male</td>\n",
       "      <td>NaN</td>\n",
       "      <td>NaN</td>\n",
       "      <td>NaN</td>\n",
       "      <td>1907-09-07</td>\n",
       "      <td>Châtenay</td>\n",
       "      <td>France</td>\n",
       "      <td>1900</td>\n",
       "    </tr>\n",
       "    <tr>\n",
       "      <th>2</th>\n",
       "      <td>1901</td>\n",
       "      <td>Medicine</td>\n",
       "      <td>The Nobel Prize in Physiology or Medicine 1901</td>\n",
       "      <td>\"for his work on serum therapy, especially its...</td>\n",
       "      <td>1/1</td>\n",
       "      <td>293</td>\n",
       "      <td>Individual</td>\n",
       "      <td>Emil Adolf von Behring</td>\n",
       "      <td>1854-03-15</td>\n",
       "      <td>Hansdorf (Lawice)</td>\n",
       "      <td>Prussia (Poland)</td>\n",
       "      <td>Male</td>\n",
       "      <td>Marburg University</td>\n",
       "      <td>Marburg</td>\n",
       "      <td>Germany</td>\n",
       "      <td>1917-03-31</td>\n",
       "      <td>Marburg</td>\n",
       "      <td>Germany</td>\n",
       "      <td>1900</td>\n",
       "    </tr>\n",
       "    <tr>\n",
       "      <th>3</th>\n",
       "      <td>1901</td>\n",
       "      <td>Peace</td>\n",
       "      <td>The Nobel Peace Prize 1901</td>\n",
       "      <td>NaN</td>\n",
       "      <td>1/2</td>\n",
       "      <td>462</td>\n",
       "      <td>Individual</td>\n",
       "      <td>Jean Henry Dunant</td>\n",
       "      <td>1828-05-08</td>\n",
       "      <td>Geneva</td>\n",
       "      <td>Switzerland</td>\n",
       "      <td>Male</td>\n",
       "      <td>NaN</td>\n",
       "      <td>NaN</td>\n",
       "      <td>NaN</td>\n",
       "      <td>1910-10-30</td>\n",
       "      <td>Heiden</td>\n",
       "      <td>Switzerland</td>\n",
       "      <td>1900</td>\n",
       "    </tr>\n",
       "    <tr>\n",
       "      <th>4</th>\n",
       "      <td>1901</td>\n",
       "      <td>Peace</td>\n",
       "      <td>The Nobel Peace Prize 1901</td>\n",
       "      <td>NaN</td>\n",
       "      <td>1/2</td>\n",
       "      <td>463</td>\n",
       "      <td>Individual</td>\n",
       "      <td>Frédéric Passy</td>\n",
       "      <td>1822-05-20</td>\n",
       "      <td>Paris</td>\n",
       "      <td>France</td>\n",
       "      <td>Male</td>\n",
       "      <td>NaN</td>\n",
       "      <td>NaN</td>\n",
       "      <td>NaN</td>\n",
       "      <td>1912-06-12</td>\n",
       "      <td>Paris</td>\n",
       "      <td>France</td>\n",
       "      <td>1900</td>\n",
       "    </tr>\n",
       "  </tbody>\n",
       "</table>\n",
       "</div>"
      ],
      "text/plain": [
       "   year    category                                           prize  \\\n",
       "0  1901   Chemistry               The Nobel Prize in Chemistry 1901   \n",
       "1  1901  Literature              The Nobel Prize in Literature 1901   \n",
       "2  1901    Medicine  The Nobel Prize in Physiology or Medicine 1901   \n",
       "3  1901       Peace                      The Nobel Peace Prize 1901   \n",
       "4  1901       Peace                      The Nobel Peace Prize 1901   \n",
       "\n",
       "                                          motivation prize_share  laureate_id  \\\n",
       "0  \"in recognition of the extraordinary services ...         1/1          160   \n",
       "1  \"in special recognition of his poetic composit...         1/1          569   \n",
       "2  \"for his work on serum therapy, especially its...         1/1          293   \n",
       "3                                                NaN         1/2          462   \n",
       "4                                                NaN         1/2          463   \n",
       "\n",
       "  laureate_type                     full_name  birth_date         birth_city  \\\n",
       "0    Individual  Jacobus Henricus van 't Hoff  1852-08-30          Rotterdam   \n",
       "1    Individual               Sully Prudhomme  1839-03-16              Paris   \n",
       "2    Individual        Emil Adolf von Behring  1854-03-15  Hansdorf (Lawice)   \n",
       "3    Individual             Jean Henry Dunant  1828-05-08             Geneva   \n",
       "4    Individual                Frédéric Passy  1822-05-20              Paris   \n",
       "\n",
       "      birth_country   sex   organization_name organization_city  \\\n",
       "0       Netherlands  Male   Berlin University            Berlin   \n",
       "1            France  Male                 NaN               NaN   \n",
       "2  Prussia (Poland)  Male  Marburg University           Marburg   \n",
       "3       Switzerland  Male                 NaN               NaN   \n",
       "4            France  Male                 NaN               NaN   \n",
       "\n",
       "  organization_country  death_date death_city death_country  decade  \n",
       "0              Germany  1911-03-01     Berlin       Germany    1900  \n",
       "1                  NaN  1907-09-07   Châtenay        France    1900  \n",
       "2              Germany  1917-03-31    Marburg       Germany    1900  \n",
       "3                  NaN  1910-10-30     Heiden   Switzerland    1900  \n",
       "4                  NaN  1912-06-12      Paris        France    1900  "
      ]
     },
     "execution_count": 224,
     "metadata": {},
     "output_type": "execute_result"
    }
   ],
   "source": [
    "# Loading in required libraries\n",
    "import pandas as pd\n",
    "import seaborn as sns\n",
    "import numpy as np\n",
    "\n",
    "df = pd.read_csv('./Dataset/nobel.csv')\n",
    "df['decade'] = (df['year']//10)*10\n",
    "\n",
    "df.head()"
   ]
  },
  {
   "cell_type": "markdown",
   "id": "97302ca2",
   "metadata": {},
   "source": [
    "What is the most commonly awarded gender and birth country?"
   ]
  },
  {
   "cell_type": "code",
   "execution_count": 225,
   "id": "8f1e77bc",
   "metadata": {},
   "outputs": [
    {
     "name": "stdout",
     "output_type": "stream",
     "text": [
      "United States of America\n"
     ]
    }
   ],
   "source": [
    "top_country = df['birth_country'].value_counts().sort_values(ascending=False).head(1).index[0]\n",
    "top_gender = df['sex'].value_counts().sort_values(ascending=False).head(1).index[0]\n",
    "\n",
    "print(top_country)"
   ]
  },
  {
   "cell_type": "markdown",
   "id": "44949e3a",
   "metadata": {},
   "source": [
    "Which decade had the highest ratio of US-born Nobel Prize winners to total winners in all categories?"
   ]
  },
  {
   "cell_type": "code",
   "execution_count": 226,
   "id": "d9a21444",
   "metadata": {},
   "outputs": [],
   "source": [
    "max_decade_usa = df[(df['birth_country']=='United States of America') | (df['birth_country']=='USA') | (df['birth_country']=='America') | (df['birth_country']=='US')]\n",
    "\n",
    "max_decade_usa = int(max_decade_usa.groupby('decade')['prize'].count().sort_values(ascending=False).head(1).index[0])"
   ]
  },
  {
   "cell_type": "markdown",
   "id": "cfb863d6",
   "metadata": {},
   "source": [
    "Which decade and Nobel Prize category combination had the highest proportion of female laureates?"
   ]
  },
  {
   "cell_type": "code",
   "execution_count": 227,
   "id": "8e4e9a18",
   "metadata": {},
   "outputs": [
    {
     "data": {
      "text/plain": [
       "{2020: 'Literature'}"
      ]
     },
     "execution_count": 227,
     "metadata": {},
     "output_type": "execute_result"
    }
   ],
   "source": [
    "max_female_dict = {}\n",
    "max_female_df = df.groupby(['decade', 'category'])['sex'].value_counts(normalize=True).unstack().fillna(0).sort_values(by=['Female','category'], ascending=[False,True])\n",
    "max_female_dict[int(max_female_df.index[0][0])] = max_female_df.index[0][1]\n",
    "\n",
    "max_female_dict"
   ]
  },
  {
   "cell_type": "markdown",
   "id": "aca9403d",
   "metadata": {},
   "source": [
    "Who was the first woman to receive a Nobel Prize, and in what category?\n",
    "\n"
   ]
  },
  {
   "cell_type": "code",
   "execution_count": 228,
   "id": "4022b26b",
   "metadata": {},
   "outputs": [],
   "source": [
    "first_woman = df[df['sex'] == 'Female'].sort_values(by='year', ascending=True).head(1)\n",
    "\n",
    "first_woman_name = first_woman['full_name'].iloc[0]\n",
    "first_woman_category = first_woman['category'].iloc[0]"
   ]
  },
  {
   "cell_type": "markdown",
   "id": "86a1f37a",
   "metadata": {},
   "source": [
    "Which individuals or organizations have won more than one Nobel Prize throughout the years?"
   ]
  },
  {
   "cell_type": "code",
   "execution_count": 229,
   "id": "d9a09bdb",
   "metadata": {},
   "outputs": [],
   "source": [
    "repeat_list = df['full_name'].value_counts()[df['full_name'].value_counts() >1].index.to_list()"
   ]
  }
 ],
 "metadata": {
  "editor": "DataCamp Workspace",
  "kernelspec": {
   "display_name": ".venv",
   "language": "python",
   "name": "python3"
  },
  "language_info": {
   "codemirror_mode": {
    "name": "ipython",
    "version": 3
   },
   "file_extension": ".py",
   "mimetype": "text/x-python",
   "name": "python",
   "nbconvert_exporter": "python",
   "pygments_lexer": "ipython3",
   "version": "3.12.9"
  }
 },
 "nbformat": 4,
 "nbformat_minor": 5
}
