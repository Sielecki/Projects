{
 "cells": [
  {
   "cell_type": "markdown",
   "id": "c747d469-ee97-4b95-880f-feefd5456042",
   "metadata": {
    "id": "bA5ajAmk7XH6"
   },
   "source": [
    "![NYC Skyline](./Images/nyc.jpg)\n",
    "\n",
    "Welcome to New York City, one of the most-visited cities in the world. There are many Airbnb listings in New York City to meet the high demand for temporary lodging for travelers, which can be anywhere between a few nights to many months. In this project, we will take a closer look at the New York Airbnb market by combining data from multiple file types like `.csv`, `.tsv`, and `.xlsx`.\n",
    "\n",
    "Recall that **CSV**, **TSV**, and **Excel** files are three common formats for storing data. \n",
    "Three files containing data on 2019 Airbnb listings are available to you:\n",
    "\n",
    "**data/airbnb_price.csv**\n",
    "This is a CSV file containing data on Airbnb listing prices and locations.\n",
    "- **`listing_id`**: unique identifier of listing\n",
    "- **`price`**: nightly listing price in USD\n",
    "- **`nbhood_full`**: name of borough and neighborhood where listing is located\n",
    "\n",
    "**data/airbnb_room_type.xlsx**\n",
    "This is an Excel file containing data on Airbnb listing descriptions and room types.\n",
    "- **`listing_id`**: unique identifier of listing\n",
    "- **`description`**: listing description\n",
    "- **`room_type`**: Airbnb has three types of rooms: shared rooms, private rooms, and entire homes/apartments\n",
    "\n",
    "**data/airbnb_last_review.tsv**\n",
    "This is a TSV file containing data on Airbnb host names and review dates.\n",
    "- **`listing_id`**: unique identifier of listing\n",
    "- **`host_name`**: name of listing host\n",
    "- **`last_review`**: date when the listing was last reviewed"
   ]
  },
  {
   "cell_type": "code",
   "execution_count": null,
   "id": "1fdc5784-479e-46cb-b05b-68439dcc94a7",
   "metadata": {
    "executionCancelledAt": null,
    "executionTime": 2469,
    "lastExecutedAt": 1714136608190,
    "lastExecutedByKernel": "3ef23352-7ec2-4f84-94c0-43f0da95481d",
    "lastScheduledRunId": null,
    "lastSuccessfullyExecutedCode": "# We've loaded your first package for you! You can add as many cells as you need.\nimport numpy as np\n\n# Begin coding here ..."
   },
   "outputs": [
    {
     "data": {
      "application/vnd.microsoft.datawrangler.viewer.v0+json": {
       "columns": [
        {
         "name": "index",
         "rawType": "int64",
         "type": "integer"
        },
        {
         "name": "listing_id",
         "rawType": "int64",
         "type": "integer"
        },
        {
         "name": "description",
         "rawType": "object",
         "type": "string"
        },
        {
         "name": "room_type",
         "rawType": "object",
         "type": "string"
        },
        {
         "name": "host_name",
         "rawType": "object",
         "type": "string"
        },
        {
         "name": "last_review",
         "rawType": "datetime64[ns]",
         "type": "datetime"
        },
        {
         "name": "price",
         "rawType": "int32",
         "type": "integer"
        },
        {
         "name": "nbhood_full",
         "rawType": "object",
         "type": "string"
        }
       ],
       "ref": "91dde2d1-2db3-4096-a443-eef72958b44c",
       "rows": [
        [
         "0",
         "2595",
         "Skylit Midtown Castle",
         "entire home/apt",
         "Jennifer",
         "2019-05-21 00:00:00",
         "225",
         "Manhattan, Midtown"
        ],
        [
         "1",
         "3831",
         "Cozy Entire Floor of Brownstone",
         "entire home/apt",
         "LisaRoxanne",
         "2019-07-05 00:00:00",
         "89",
         "Brooklyn, Clinton Hill"
        ],
        [
         "2",
         "5099",
         "Large Cozy 1 BR Apartment In Midtown East",
         "entire home/apt",
         "Chris",
         "2019-06-22 00:00:00",
         "200",
         "Manhattan, Murray Hill"
        ],
        [
         "3",
         "5178",
         "Large Furnished Room Near B'way",
         "private room",
         "Shunichi",
         "2019-06-24 00:00:00",
         "79",
         "Manhattan, Hell's Kitchen"
        ],
        [
         "4",
         "5238",
         "Cute & Cozy Lower East Side 1 bdrm",
         "entire home/apt",
         "Ben",
         "2019-06-09 00:00:00",
         "150",
         "Manhattan, Chinatown"
        ]
       ],
       "shape": {
        "columns": 7,
        "rows": 5
       }
      },
      "text/html": [
       "<div>\n",
       "<style scoped>\n",
       "    .dataframe tbody tr th:only-of-type {\n",
       "        vertical-align: middle;\n",
       "    }\n",
       "\n",
       "    .dataframe tbody tr th {\n",
       "        vertical-align: top;\n",
       "    }\n",
       "\n",
       "    .dataframe thead th {\n",
       "        text-align: right;\n",
       "    }\n",
       "</style>\n",
       "<table border=\"1\" class=\"dataframe\">\n",
       "  <thead>\n",
       "    <tr style=\"text-align: right;\">\n",
       "      <th></th>\n",
       "      <th>listing_id</th>\n",
       "      <th>description</th>\n",
       "      <th>room_type</th>\n",
       "      <th>host_name</th>\n",
       "      <th>last_review</th>\n",
       "      <th>price</th>\n",
       "      <th>nbhood_full</th>\n",
       "    </tr>\n",
       "  </thead>\n",
       "  <tbody>\n",
       "    <tr>\n",
       "      <th>0</th>\n",
       "      <td>2595</td>\n",
       "      <td>Skylit Midtown Castle</td>\n",
       "      <td>entire home/apt</td>\n",
       "      <td>Jennifer</td>\n",
       "      <td>2019-05-21</td>\n",
       "      <td>225</td>\n",
       "      <td>Manhattan, Midtown</td>\n",
       "    </tr>\n",
       "    <tr>\n",
       "      <th>1</th>\n",
       "      <td>3831</td>\n",
       "      <td>Cozy Entire Floor of Brownstone</td>\n",
       "      <td>entire home/apt</td>\n",
       "      <td>LisaRoxanne</td>\n",
       "      <td>2019-07-05</td>\n",
       "      <td>89</td>\n",
       "      <td>Brooklyn, Clinton Hill</td>\n",
       "    </tr>\n",
       "    <tr>\n",
       "      <th>2</th>\n",
       "      <td>5099</td>\n",
       "      <td>Large Cozy 1 BR Apartment In Midtown East</td>\n",
       "      <td>entire home/apt</td>\n",
       "      <td>Chris</td>\n",
       "      <td>2019-06-22</td>\n",
       "      <td>200</td>\n",
       "      <td>Manhattan, Murray Hill</td>\n",
       "    </tr>\n",
       "    <tr>\n",
       "      <th>3</th>\n",
       "      <td>5178</td>\n",
       "      <td>Large Furnished Room Near B'way</td>\n",
       "      <td>private room</td>\n",
       "      <td>Shunichi</td>\n",
       "      <td>2019-06-24</td>\n",
       "      <td>79</td>\n",
       "      <td>Manhattan, Hell's Kitchen</td>\n",
       "    </tr>\n",
       "    <tr>\n",
       "      <th>4</th>\n",
       "      <td>5238</td>\n",
       "      <td>Cute &amp; Cozy Lower East Side 1 bdrm</td>\n",
       "      <td>entire home/apt</td>\n",
       "      <td>Ben</td>\n",
       "      <td>2019-06-09</td>\n",
       "      <td>150</td>\n",
       "      <td>Manhattan, Chinatown</td>\n",
       "    </tr>\n",
       "  </tbody>\n",
       "</table>\n",
       "</div>"
      ],
      "text/plain": [
       "   listing_id                                description        room_type  \\\n",
       "0        2595                      Skylit Midtown Castle  entire home/apt   \n",
       "1        3831            Cozy Entire Floor of Brownstone  entire home/apt   \n",
       "2        5099  Large Cozy 1 BR Apartment In Midtown East  entire home/apt   \n",
       "3        5178            Large Furnished Room Near B'way     private room   \n",
       "4        5238         Cute & Cozy Lower East Side 1 bdrm  entire home/apt   \n",
       "\n",
       "     host_name last_review  price                nbhood_full  \n",
       "0     Jennifer  2019-05-21    225         Manhattan, Midtown  \n",
       "1  LisaRoxanne  2019-07-05     89     Brooklyn, Clinton Hill  \n",
       "2        Chris  2019-06-22    200     Manhattan, Murray Hill  \n",
       "3     Shunichi  2019-06-24     79  Manhattan, Hell's Kitchen  \n",
       "4          Ben  2019-06-09    150       Manhattan, Chinatown  "
      ]
     },
     "execution_count": 31,
     "metadata": {},
     "output_type": "execute_result"
    }
   ],
   "source": [
    "# Import necessary packages\n",
    "import pandas as pd\n",
    "import numpy as np\n",
    "\n",
    "airbnb_review = pd.read_csv('Dataset/airbnb_last_review.tsv', sep='\\t')\n",
    "airbnb_price = pd.read_csv('Dataset/airbnb_price.csv')\n",
    "airbnb_room = pd.read_excel('Dataset/airbnb_room_type.xlsx')\n",
    "\n",
    "airbnb_review.head()\n",
    "airbnb_price.head()\n",
    "airbnb_room.head()\n",
    "\n",
    "airbnb = airbnb_room.copy()\n",
    "airbnb = airbnb.merge(airbnb_review, on='listing_id').merge(airbnb_price, on='listing_id')\n",
    "airbnb['price'] = airbnb['price'].str.replace('$', '').str.replace('dollars', '').str.replace(' ','').astype('int32')\n",
    "airbnb['room_type'] = airbnb['room_type'].str.lower().str.strip().astype('category')\n",
    "airbnb['last_review'] = pd.to_datetime(airbnb['last_review'])\n",
    "\n",
    "airbnb.head()"
   ]
  },
  {
   "cell_type": "markdown",
   "id": "243ec535",
   "metadata": {},
   "source": [
    "What are the dates of the earliest and most recent reviews?"
   ]
  },
  {
   "cell_type": "code",
   "execution_count": 24,
   "id": "074bcc6d",
   "metadata": {},
   "outputs": [],
   "source": [
    "first_review = airbnb['last_review'].min()\n",
    "last_review = airbnb['last_review'].max()"
   ]
  },
  {
   "cell_type": "markdown",
   "id": "d3385eb3",
   "metadata": {},
   "source": [
    "How many of the listings are private rooms?"
   ]
  },
  {
   "cell_type": "code",
   "execution_count": 12,
   "id": "1b14e407",
   "metadata": {},
   "outputs": [
    {
     "data": {
      "text/plain": [
       "2248"
      ]
     },
     "execution_count": 12,
     "metadata": {},
     "output_type": "execute_result"
    }
   ],
   "source": [
    "private_room_count = len(airbnb[airbnb['room_type']== 'private room'])\n",
    "private_room_count"
   ]
  },
  {
   "cell_type": "markdown",
   "id": "055d26e2",
   "metadata": {},
   "source": [
    "What is the average listing price?"
   ]
  },
  {
   "cell_type": "code",
   "execution_count": 19,
   "id": "06338a69",
   "metadata": {},
   "outputs": [
    {
     "data": {
      "text/plain": [
       "np.float64(141.78)"
      ]
     },
     "execution_count": 19,
     "metadata": {},
     "output_type": "execute_result"
    }
   ],
   "source": [
    "mean_price = airbnb['price'].mean().round(2)\n",
    "mean_price"
   ]
  },
  {
   "cell_type": "code",
   "execution_count": 29,
   "id": "c2f23c48",
   "metadata": {},
   "outputs": [
    {
     "data": {
      "application/vnd.microsoft.datawrangler.viewer.v0+json": {
       "columns": [
        {
         "name": "index",
         "rawType": "int64",
         "type": "integer"
        },
        {
         "name": "first_reviewed",
         "rawType": "datetime64[ns]",
         "type": "datetime"
        },
        {
         "name": "last_reviewed",
         "rawType": "datetime64[ns]",
         "type": "datetime"
        },
        {
         "name": "nb_private_rooms",
         "rawType": "int64",
         "type": "integer"
        },
        {
         "name": "avg_price",
         "rawType": "float64",
         "type": "float"
        }
       ],
       "ref": "4fd4dddf-3579-4976-bb3f-e7fa04b01ec9",
       "rows": [
        [
         "0",
         "2019-01-01 00:00:00",
         "2019-07-09 00:00:00",
         "2248",
         "141.78"
        ]
       ],
       "shape": {
        "columns": 4,
        "rows": 1
       }
      },
      "text/html": [
       "<div>\n",
       "<style scoped>\n",
       "    .dataframe tbody tr th:only-of-type {\n",
       "        vertical-align: middle;\n",
       "    }\n",
       "\n",
       "    .dataframe tbody tr th {\n",
       "        vertical-align: top;\n",
       "    }\n",
       "\n",
       "    .dataframe thead th {\n",
       "        text-align: right;\n",
       "    }\n",
       "</style>\n",
       "<table border=\"1\" class=\"dataframe\">\n",
       "  <thead>\n",
       "    <tr style=\"text-align: right;\">\n",
       "      <th></th>\n",
       "      <th>first_reviewed</th>\n",
       "      <th>last_reviewed</th>\n",
       "      <th>nb_private_rooms</th>\n",
       "      <th>avg_price</th>\n",
       "    </tr>\n",
       "  </thead>\n",
       "  <tbody>\n",
       "    <tr>\n",
       "      <th>0</th>\n",
       "      <td>2019-01-01</td>\n",
       "      <td>2019-07-09</td>\n",
       "      <td>2248</td>\n",
       "      <td>141.78</td>\n",
       "    </tr>\n",
       "  </tbody>\n",
       "</table>\n",
       "</div>"
      ],
      "text/plain": [
       "  first_reviewed last_reviewed  nb_private_rooms  avg_price\n",
       "0     2019-01-01    2019-07-09              2248     141.78"
      ]
     },
     "execution_count": 29,
     "metadata": {},
     "output_type": "execute_result"
    }
   ],
   "source": [
    "review_dates = pd.DataFrame([[first_review, last_review, private_room_count, mean_price]], columns=['first_reviewed','last_reviewed','nb_private_rooms','avg_price'])\n",
    "\n",
    "review_dates"
   ]
  }
 ],
 "metadata": {
  "colab": {
   "name": "Welcome to DataCamp Workspaces.ipynb",
   "provenance": []
  },
  "kernelspec": {
   "display_name": ".venv",
   "language": "python",
   "name": "python3"
  },
  "language_info": {
   "codemirror_mode": {
    "name": "ipython",
    "version": 3
   },
   "file_extension": ".py",
   "mimetype": "text/x-python",
   "name": "python",
   "nbconvert_exporter": "python",
   "pygments_lexer": "ipython3",
   "version": "3.12.9"
  }
 },
 "nbformat": 4,
 "nbformat_minor": 5
}
