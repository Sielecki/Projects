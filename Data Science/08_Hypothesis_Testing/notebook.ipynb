{
 "cells": [
  {
   "cell_type": "markdown",
   "id": "3ed0edb2-696b-49ab-9db0-681defcce695",
   "metadata": {},
   "source": [
    "![A soccer pitch for an international match.](./Images/soccer-pitch.jpg)\n",
    "\n",
    "You're working as a sports journalist at a major online sports media company, specializing in soccer analysis and reporting. You've been watching both men's and women's international soccer matches for a number of years, and your gut instinct tells you that more goals are scored in women's international football matches than men's. This would make an interesting investigative article that your subscribers are bound to love, but you'll need to perform a valid statistical hypothesis test to be sure!\n",
    "\n",
    "While scoping this project, you acknowledge that the sport has changed a lot over the years, and performances likely vary a lot depending on the tournament, so you decide to limit the data used in the analysis to only official `FIFA World Cup` matches (not including qualifiers) since `2002-01-01`.\n",
    "\n",
    "You create two datasets containing the results of every official men's and women's international football match since the 19th century, which you scraped from a reliable online source. This data is stored in two CSV files: `women_results.csv` and `men_results.csv`.\n",
    "\n",
    "The question you are trying to determine the answer to is:\n",
    "\n",
    "> Are more goals scored in women's international soccer matches than men's?\n",
    "\n",
    "You assume a **10% significance level**, and use the following null and alternative hypotheses:\n",
    "\n",
    "$H_0$ : The mean number of goals scored in women's international soccer matches is the same as men's.\n",
    "\n",
    "$H_A$ : The mean number of goals scored in women's international soccer matches is greater than men's."
   ]
  },
  {
   "cell_type": "markdown",
   "id": "5afc849f",
   "metadata": {},
   "source": [
    "Perform an appropriate hypothesis test to determine the p-value, and hence result, of whether to reject or fail to reject the null hypothesis that the mean number of goals scored in women's international soccer matches is the same as men's. Use a 10% significance level.\n",
    "\n",
    "For this analysis, you'll use Official FIFA World Cup matches since 2002-01-01, and you'll also assume that each match is fully independent, i.e., team form is ignored.\n",
    "\n",
    "The p-value and the result of the test must be stored in a dictionary called result_dict in the form:"
   ]
  },
  {
   "cell_type": "code",
   "execution_count": 96,
   "id": "84a3c4c8-534b-4d1a-9919-17e05208b2ca",
   "metadata": {},
   "outputs": [],
   "source": [
    "alpha = 0.1\n",
    "\n",
    "import pandas as pd\n",
    "import seaborn as sns\n",
    "import matplotlib.pyplot as plt\n",
    "\n",
    "men = pd.read_csv('./Dataset/men_results.csv')\n",
    "women = pd.read_csv('./Dataset/women_results.csv')\n",
    "\n",
    "men['date'] = pd.to_datetime(men['date'])\n",
    "men = men[(men['date'] >= '2002-01-01') & (men['tournament'] == 'FIFA World Cup')]\n",
    "\n",
    "men['match'] = men['home_team'] + ' vs ' + men['away_team']\n",
    "men['goals_average'] = (men['home_score'] + men['away_score'])\n",
    "men = men.drop(columns=['Unnamed: 0','home_team','away_team','home_score','away_score','date','tournament','match'])\n",
    "\n",
    "\n",
    "women['date'] = pd.to_datetime(women['date'])\n",
    "women = women[(women['date'] >= '2002-01-01') & (women['tournament'] == 'FIFA World Cup')]\n",
    "\n",
    "women['match'] = women['home_team'] + ' vs ' + women['away_team']\n",
    "women['goals_average'] = (women['home_score'] + women['away_score'])\n",
    "women = women.drop(columns=['Unnamed: 0','home_team','away_team','home_score','away_score','date','tournament','match'])\n"
   ]
  },
  {
   "cell_type": "markdown",
   "id": "2a3cb93c",
   "metadata": {},
   "source": [
    "We need to compare two groups -> ttest / Wilcoxon-Mann-Whitney test.\n",
    "\n",
    "To determine wich one we need to see if the data follows a normal distribution"
   ]
  },
  {
   "cell_type": "code",
   "execution_count": 97,
   "id": "8d37641b",
   "metadata": {},
   "outputs": [
    {
     "data": {
      "image/png": "[encoded data removed]",
      "text/plain": [
       "<Figure size 500x500 with 1 Axes>"
      ]
     },
     "metadata": {},
     "output_type": "display_data"
    },
    {
     "data": {
      "image/png": "[encoded data removed]",
      "text/plain": [
       "<Figure size 500x500 with 1 Axes>"
      ]
     },
     "metadata": {},
     "output_type": "display_data"
    }
   ],
   "source": [
    "sns.displot(women['goals_average'])\n",
    "plt.show()\n",
    "\n",
    "sns.displot(men['goals_average'])\n",
    "plt.show()"
   ]
  },
  {
   "cell_type": "markdown",
   "id": "dd7637ac",
   "metadata": {},
   "source": [
    "We can see that the data is right skewed\n",
    "\n",
    "Further normality tests include: \n",
    "-Shapiro-Wilk (good for smaller datasets)"
   ]
  },
  {
   "cell_type": "code",
   "execution_count": 98,
   "id": "3cf4aa8b",
   "metadata": {},
   "outputs": [
    {
     "name": "stdout",
     "output_type": "stream",
     "text": [
      "Men: p = 0.0 test stat: 0.9266\n",
      "Men: p = 0.0 test stat: 0.8491\n"
     ]
    }
   ],
   "source": [
    "from scipy.stats import shapiro \n",
    "alpha = 0.05   \n",
    "stat, p = shapiro(men['goals_average']) \n",
    "print(f\"Men: p = {round(p,4)} test stat: {round(stat,4)}\")\n",
    "\n",
    "alpha = 0.05   \n",
    "stat, p = shapiro(women['goals_average']) \n",
    "print(f\"Men: p = {round(p,4)} test stat: {round(stat,4)}\")\n"
   ]
  },
  {
   "cell_type": "markdown",
   "id": "cef3f365",
   "metadata": {},
   "source": [
    "Rejects H0 -> likely not Normal"
   ]
  },
  {
   "cell_type": "code",
   "execution_count": 99,
   "id": "1ea85497",
   "metadata": {},
   "outputs": [
    {
     "name": "stdout",
     "output_type": "stream",
     "text": [
      "9.1068\n",
      "[15.  10.   5.   2.5  1. ]\n",
      "[0.57  0.649 0.779 0.909 1.081]\n",
      "7.2168\n",
      "[15.  10.   5.   2.5  1. ]\n",
      "[0.565 0.644 0.772 0.901 1.071]\n"
     ]
    }
   ],
   "source": [
    "from scipy.stats import anderson \n",
    "result = anderson(x=men['goals_average'], dist=\"norm\") \n",
    "\n",
    "print(round(result.statistic,4)) \n",
    "print(result.significance_level) \n",
    "print(result.critical_values) \n",
    "\n",
    "result = anderson(x=women['goals_average'], dist=\"norm\") \n",
    "\n",
    "print(round(result.statistic,4)) \n",
    "print(result.significance_level) \n",
    "print(result.critical_values) "
   ]
  },
  {
   "cell_type": "markdown",
   "id": "01a88811",
   "metadata": {},
   "source": [
    "94.4163 >= [0.575 0.655 0.786 0.917 1.091] -> Rejects H0 -> likely not Normal\n",
    "\n",
    "3.313   >= [0.563 0.642 0.77  0.898 1.068] -> Rejects H0 -> likely not Normal"
   ]
  },
  {
   "cell_type": "code",
   "execution_count": 100,
   "id": "786f60c0",
   "metadata": {},
   "outputs": [
    {
     "data": {
      "application/vnd.microsoft.datawrangler.viewer.v0+json": {
       "columns": [
        {
         "name": "index",
         "rawType": "int64",
         "type": "integer"
        },
        {
         "name": "goals_average",
         "rawType": "int64",
         "type": "integer"
        },
        {
         "name": "gender",
         "rawType": "object",
         "type": "string"
        }
       ],
       "ref": "0bbc0bde-c622-446f-9d2a-c316c39e5864",
       "rows": [
        [
         "0",
         "1",
         "Male"
        ],
        [
         "1",
         "8",
         "Male"
        ],
        [
         "2",
         "2",
         "Male"
        ],
        [
         "3",
         "3",
         "Male"
        ],
        [
         "4",
         "1",
         "Male"
        ]
       ],
       "shape": {
        "columns": 2,
        "rows": 5
       }
      },
      "text/html": [
       "<div>\n",
       "<style scoped>\n",
       "    .dataframe tbody tr th:only-of-type {\n",
       "        vertical-align: middle;\n",
       "    }\n",
       "\n",
       "    .dataframe tbody tr th {\n",
       "        vertical-align: top;\n",
       "    }\n",
       "\n",
       "    .dataframe thead th {\n",
       "        text-align: right;\n",
       "    }\n",
       "</style>\n",
       "<table border=\"1\" class=\"dataframe\">\n",
       "  <thead>\n",
       "    <tr style=\"text-align: right;\">\n",
       "      <th></th>\n",
       "      <th>goals_average</th>\n",
       "      <th>gender</th>\n",
       "    </tr>\n",
       "  </thead>\n",
       "  <tbody>\n",
       "    <tr>\n",
       "      <th>0</th>\n",
       "      <td>1</td>\n",
       "      <td>Male</td>\n",
       "    </tr>\n",
       "    <tr>\n",
       "      <th>1</th>\n",
       "      <td>8</td>\n",
       "      <td>Male</td>\n",
       "    </tr>\n",
       "    <tr>\n",
       "      <th>2</th>\n",
       "      <td>2</td>\n",
       "      <td>Male</td>\n",
       "    </tr>\n",
       "    <tr>\n",
       "      <th>3</th>\n",
       "      <td>3</td>\n",
       "      <td>Male</td>\n",
       "    </tr>\n",
       "    <tr>\n",
       "      <th>4</th>\n",
       "      <td>1</td>\n",
       "      <td>Male</td>\n",
       "    </tr>\n",
       "  </tbody>\n",
       "</table>\n",
       "</div>"
      ],
      "text/plain": [
       "   goals_average gender\n",
       "0              1   Male\n",
       "1              8   Male\n",
       "2              2   Male\n",
       "3              3   Male\n",
       "4              1   Male"
      ]
     },
     "execution_count": 100,
     "metadata": {},
     "output_type": "execute_result"
    }
   ],
   "source": [
    "men['gender'] = \"Male\"\n",
    "women['gender'] = \"Female\"\n",
    "footbal_results = pd.concat([men, women], ignore_index=True)\n",
    "\n",
    "footbal_results.head()"
   ]
  },
  {
   "cell_type": "code",
   "execution_count": 101,
   "id": "cb6b3b5d",
   "metadata": {},
   "outputs": [],
   "source": [
    "import pingouin\n",
    "\n",
    "footbal_results_wide = footbal_results.pivot(columns='gender',                                      \n",
    "                                            values='goals_average') \n",
    "\n",
    "result = pingouin.mwu(x=footbal_results_wide['Male'],               \n",
    "             y=footbal_results_wide['Female'],              \n",
    "             alternative='less')"
   ]
  },
  {
   "cell_type": "code",
   "execution_count": 102,
   "id": "c2d62de6",
   "metadata": {},
   "outputs": [
    {
     "data": {
      "text/plain": [
       "{'p_val': np.float64(0.005106609825443641), 'result': 'reject'}"
      ]
     },
     "execution_count": 102,
     "metadata": {},
     "output_type": "execute_result"
    }
   ],
   "source": [
    "result_dict = {\n",
    "    'p_val': result['p-val'].values[0],\n",
    "    'result': 'reject' if result['p-val'].values[0] < alpha else 'fail to reject'\n",
    "}\n",
    "\n",
    "result_dict"
   ]
  }
 ],
 "metadata": {
  "colab": {
   "name": "Welcome to DataCamp Workspaces.ipynb",
   "provenance": []
  },
  "kernelspec": {
   "display_name": ".venv",
   "language": "python",
   "name": "python3"
  },
  "language_info": {
   "codemirror_mode": {
    "name": "ipython",
    "version": 3
   },
   "file_extension": ".py",
   "mimetype": "text/x-python",
   "name": "python",
   "nbconvert_exporter": "python",
   "pygments_lexer": "ipython3",
   "version": "3.12.9"
  }
 },
 "nbformat": 4,
 "nbformat_minor": 5
}
