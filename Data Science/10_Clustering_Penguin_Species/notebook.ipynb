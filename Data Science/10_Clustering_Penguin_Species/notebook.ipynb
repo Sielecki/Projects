{
 "cells": [
  {
   "cell_type": "markdown",
   "id": "589fe37e-e764-4d71-9c3c-93c8b7acee79",
   "metadata": {},
   "source": [
    "![Alt text](https://imgur.com/orZWHly.png=80)\n",
    "source: @allison_horst https://github.com/allisonhorst/penguins"
   ]
  },
  {
   "cell_type": "markdown",
   "id": "d3fb84f2-0eda-4b73-95c0-5364f83e25bf",
   "metadata": {},
   "source": [
    "You have been asked to support a team of researchers who have been collecting data about penguins in Antartica! The data is available in csv-Format as `penguins.csv`\n",
    "\n",
    "**Origin of this data** : Data were collected and made available by Dr. Kristen Gorman and the Palmer Station, Antarctica LTER, a member of the Long Term Ecological Research Network.\n",
    "\n",
    "**The dataset consists of 5 columns.**\n",
    "\n",
    "Column | Description\n",
    "--- | ---\n",
    "culmen_length_mm | culmen length (mm)\n",
    "culmen_depth_mm | culmen depth (mm)\n",
    "flipper_length_mm | flipper length (mm)\n",
    "body_mass_g | body mass (g)\n",
    "sex | penguin sex\n",
    "\n",
    "Unfortunately, they have not been able to record the species of penguin, but they know that there are **at least three** species that are native to the region: **Adelie**, **Chinstrap**, and **Gentoo**.  Your task is to apply your data science skills to help them identify groups in the dataset!"
   ]
  },
  {
   "cell_type": "code",
   "execution_count": 119,
   "id": "57295d13-5753-4f8d-aa96-cd6815f7cbd9",
   "metadata": {
    "executionCancelledAt": null,
    "executionTime": 24,
    "lastExecutedAt": 1717157062256,
    "lastExecutedByKernel": "58942c8c-0534-4896-9aa9-4b6e1191a459",
    "lastScheduledRunId": null,
    "lastSuccessfullyExecutedCode": "# Import Required Packages\nimport pandas as pd\nimport matplotlib.pyplot as plt\n\nfrom sklearn.cluster import KMeans\nfrom sklearn.preprocessing import StandardScaler\n\n# Loading and examining the dataset\npenguins_df = pd.read_csv(\"penguins.csv\")\npenguins_df.head()",
    "outputsMetadata": {
     "0": {
      "height": 550,
      "tableState": {},
      "type": "dataFrame"
     }
    }
   },
   "outputs": [
    {
     "data": {
      "application/vnd.microsoft.datawrangler.viewer.v0+json": {
       "columns": [
        {
         "name": "index",
         "rawType": "int64",
         "type": "integer"
        },
        {
         "name": "culmen_length_mm",
         "rawType": "float64",
         "type": "float"
        },
        {
         "name": "culmen_depth_mm",
         "rawType": "float64",
         "type": "float"
        },
        {
         "name": "flipper_length_mm",
         "rawType": "float64",
         "type": "float"
        },
        {
         "name": "body_mass_g",
         "rawType": "float64",
         "type": "float"
        },
        {
         "name": "sex",
         "rawType": "int64",
         "type": "integer"
        }
       ],
       "ref": "1a53ab3b-9daf-4683-a3db-9137f77b2d77",
       "rows": [
        [
         "0",
         "39.1",
         "18.7",
         "181.0",
         "3750.0",
         "1"
        ],
        [
         "1",
         "39.5",
         "17.4",
         "186.0",
         "3800.0",
         "0"
        ],
        [
         "2",
         "40.3",
         "18.0",
         "195.0",
         "3250.0",
         "0"
        ],
        [
         "3",
         "36.7",
         "19.3",
         "193.0",
         "3450.0",
         "0"
        ],
        [
         "4",
         "39.3",
         "20.6",
         "190.0",
         "3650.0",
         "1"
        ]
       ],
       "shape": {
        "columns": 5,
        "rows": 5
       }
      },
      "text/html": [
       "<div>\n",
       "<style scoped>\n",
       "    .dataframe tbody tr th:only-of-type {\n",
       "        vertical-align: middle;\n",
       "    }\n",
       "\n",
       "    .dataframe tbody tr th {\n",
       "        vertical-align: top;\n",
       "    }\n",
       "\n",
       "    .dataframe thead th {\n",
       "        text-align: right;\n",
       "    }\n",
       "</style>\n",
       "<table border=\"1\" class=\"dataframe\">\n",
       "  <thead>\n",
       "    <tr style=\"text-align: right;\">\n",
       "      <th></th>\n",
       "      <th>culmen_length_mm</th>\n",
       "      <th>culmen_depth_mm</th>\n",
       "      <th>flipper_length_mm</th>\n",
       "      <th>body_mass_g</th>\n",
       "      <th>sex</th>\n",
       "    </tr>\n",
       "  </thead>\n",
       "  <tbody>\n",
       "    <tr>\n",
       "      <th>0</th>\n",
       "      <td>39.1</td>\n",
       "      <td>18.7</td>\n",
       "      <td>181.0</td>\n",
       "      <td>3750.0</td>\n",
       "      <td>1</td>\n",
       "    </tr>\n",
       "    <tr>\n",
       "      <th>1</th>\n",
       "      <td>39.5</td>\n",
       "      <td>17.4</td>\n",
       "      <td>186.0</td>\n",
       "      <td>3800.0</td>\n",
       "      <td>0</td>\n",
       "    </tr>\n",
       "    <tr>\n",
       "      <th>2</th>\n",
       "      <td>40.3</td>\n",
       "      <td>18.0</td>\n",
       "      <td>195.0</td>\n",
       "      <td>3250.0</td>\n",
       "      <td>0</td>\n",
       "    </tr>\n",
       "    <tr>\n",
       "      <th>3</th>\n",
       "      <td>36.7</td>\n",
       "      <td>19.3</td>\n",
       "      <td>193.0</td>\n",
       "      <td>3450.0</td>\n",
       "      <td>0</td>\n",
       "    </tr>\n",
       "    <tr>\n",
       "      <th>4</th>\n",
       "      <td>39.3</td>\n",
       "      <td>20.6</td>\n",
       "      <td>190.0</td>\n",
       "      <td>3650.0</td>\n",
       "      <td>1</td>\n",
       "    </tr>\n",
       "  </tbody>\n",
       "</table>\n",
       "</div>"
      ],
      "text/plain": [
       "   culmen_length_mm  culmen_depth_mm  flipper_length_mm  body_mass_g  sex\n",
       "0              39.1             18.7              181.0       3750.0    1\n",
       "1              39.5             17.4              186.0       3800.0    0\n",
       "2              40.3             18.0              195.0       3250.0    0\n",
       "3              36.7             19.3              193.0       3450.0    0\n",
       "4              39.3             20.6              190.0       3650.0    1"
      ]
     },
     "execution_count": 119,
     "metadata": {},
     "output_type": "execute_result"
    }
   ],
   "source": [
    "# Import Required Packages\n",
    "import pandas as pd\n",
    "import matplotlib.pyplot as plt\n",
    "from sklearn.cluster import KMeans\n",
    "from sklearn.preprocessing import StandardScaler, LabelEncoder\n",
    "from sklearn.pipeline import make_pipeline\n",
    "\n",
    "scaler = StandardScaler()\n",
    "# Loading and examining the dataset\n",
    "penguins_df = pd.read_csv(\"./Dataset/penguins.csv\")\n",
    "penguins_df['sex'] = LabelEncoder().fit_transform(penguins_df['sex'])\n",
    "\n",
    "penguins_df.head()"
   ]
  },
  {
   "cell_type": "code",
   "execution_count": 120,
   "id": "77891b48",
   "metadata": {},
   "outputs": [
    {
     "data": {
      "image/png": "[encoded data removed]",
      "text/plain": [
       "<Figure size 640x480 with 1 Axes>"
      ]
     },
     "metadata": {},
     "output_type": "display_data"
    }
   ],
   "source": [
    "inertias = []\n",
    "ks = range(1, 20)\n",
    "\n",
    "samples = penguins_df.to_numpy()\n",
    "\n",
    "for k in range(1, 20):\n",
    "    # Create a KMeans instance with k clusters: model\n",
    "    model = KMeans(n_clusters = k)\n",
    "    pipeline = make_pipeline(scaler, model)\n",
    "    \n",
    "    # Fit model to samples\n",
    "    pipeline.fit(samples)\n",
    "    \n",
    "    # Append the inertia to the list of inertias\n",
    "    inertias.append(model.inertia_)\n",
    "\n",
    "plt.plot(ks, inertias, marker='o')\n",
    "plt.title('Elbow Method for Optimal k')\n",
    "plt.xlabel('Number of Clusters (k)')\n",
    "plt.ylabel('Inertia')\n",
    "plt.grid(True)\n",
    "plt.show()"
   ]
  },
  {
   "cell_type": "code",
   "execution_count": null,
   "id": "476cf3af",
   "metadata": {},
   "outputs": [],
   "source": []
  },
  {
   "cell_type": "code",
   "execution_count": 121,
   "id": "e01ccec6",
   "metadata": {},
   "outputs": [
    {
     "data": {
      "application/vnd.microsoft.datawrangler.viewer.v0+json": {
       "columns": [
        {
         "name": "index",
         "rawType": "int64",
         "type": "integer"
        },
        {
         "name": "culmen_length_mm",
         "rawType": "float64",
         "type": "float"
        },
        {
         "name": "culmen_depth_mm",
         "rawType": "float64",
         "type": "float"
        },
        {
         "name": "flipper_length_mm",
         "rawType": "float64",
         "type": "float"
        },
        {
         "name": "body_mass_g",
         "rawType": "float64",
         "type": "float"
        }
       ],
       "ref": "cd5a9bf5-e04e-4cc8-afc2-037c24c9392b",
       "rows": [
        [
         "0",
         "49.47377049180328",
         "15.718032786885246",
         "221.54098360655738",
         "5484.836065573771"
        ],
        [
         "1",
         "40.315714285714286",
         "19.01142857142857",
         "192.24285714285713",
         "4034.6428571428573"
        ],
        [
         "2",
         "46.96206896551725",
         "14.524137931034483",
         "213.6206896551724",
         "4852.586206896552"
        ],
        [
         "3",
         "37.37466666666666",
         "17.604",
         "187.69333333333333",
         "3369.6666666666665"
        ],
        [
         "4",
         "50.80555555555556",
         "19.305555555555557",
         "199.66666666666666",
         "3952.0833333333335"
        ],
        [
         "5",
         "44.165517241379305",
         "13.951724137931036",
         "211.79310344827587",
         "4506.896551724138"
        ],
        [
         "6",
         "46.88125",
         "17.628125",
         "192.21875",
         "3535.15625"
        ]
       ],
       "shape": {
        "columns": 4,
        "rows": 7
       }
      },
      "text/html": [
       "<div>\n",
       "<style scoped>\n",
       "    .dataframe tbody tr th:only-of-type {\n",
       "        vertical-align: middle;\n",
       "    }\n",
       "\n",
       "    .dataframe tbody tr th {\n",
       "        vertical-align: top;\n",
       "    }\n",
       "\n",
       "    .dataframe thead th {\n",
       "        text-align: right;\n",
       "    }\n",
       "</style>\n",
       "<table border=\"1\" class=\"dataframe\">\n",
       "  <thead>\n",
       "    <tr style=\"text-align: right;\">\n",
       "      <th></th>\n",
       "      <th>culmen_length_mm</th>\n",
       "      <th>culmen_depth_mm</th>\n",
       "      <th>flipper_length_mm</th>\n",
       "      <th>body_mass_g</th>\n",
       "    </tr>\n",
       "  </thead>\n",
       "  <tbody>\n",
       "    <tr>\n",
       "      <th>0</th>\n",
       "      <td>49.473770</td>\n",
       "      <td>15.718033</td>\n",
       "      <td>221.540984</td>\n",
       "      <td>5484.836066</td>\n",
       "    </tr>\n",
       "    <tr>\n",
       "      <th>1</th>\n",
       "      <td>40.315714</td>\n",
       "      <td>19.011429</td>\n",
       "      <td>192.242857</td>\n",
       "      <td>4034.642857</td>\n",
       "    </tr>\n",
       "    <tr>\n",
       "      <th>2</th>\n",
       "      <td>46.962069</td>\n",
       "      <td>14.524138</td>\n",
       "      <td>213.620690</td>\n",
       "      <td>4852.586207</td>\n",
       "    </tr>\n",
       "    <tr>\n",
       "      <th>3</th>\n",
       "      <td>37.374667</td>\n",
       "      <td>17.604000</td>\n",
       "      <td>187.693333</td>\n",
       "      <td>3369.666667</td>\n",
       "    </tr>\n",
       "    <tr>\n",
       "      <th>4</th>\n",
       "      <td>50.805556</td>\n",
       "      <td>19.305556</td>\n",
       "      <td>199.666667</td>\n",
       "      <td>3952.083333</td>\n",
       "    </tr>\n",
       "    <tr>\n",
       "      <th>5</th>\n",
       "      <td>44.165517</td>\n",
       "      <td>13.951724</td>\n",
       "      <td>211.793103</td>\n",
       "      <td>4506.896552</td>\n",
       "    </tr>\n",
       "    <tr>\n",
       "      <th>6</th>\n",
       "      <td>46.881250</td>\n",
       "      <td>17.628125</td>\n",
       "      <td>192.218750</td>\n",
       "      <td>3535.156250</td>\n",
       "    </tr>\n",
       "  </tbody>\n",
       "</table>\n",
       "</div>"
      ],
      "text/plain": [
       "   culmen_length_mm  culmen_depth_mm  flipper_length_mm  body_mass_g\n",
       "0         49.473770        15.718033         221.540984  5484.836066\n",
       "1         40.315714        19.011429         192.242857  4034.642857\n",
       "2         46.962069        14.524138         213.620690  4852.586207\n",
       "3         37.374667        17.604000         187.693333  3369.666667\n",
       "4         50.805556        19.305556         199.666667  3952.083333\n",
       "5         44.165517        13.951724         211.793103  4506.896552\n",
       "6         46.881250        17.628125         192.218750  3535.156250"
      ]
     },
     "execution_count": 121,
     "metadata": {},
     "output_type": "execute_result"
    }
   ],
   "source": [
    "model = KMeans(n_clusters = 7)\n",
    "pipeline = make_pipeline(scaler, model)\n",
    "\n",
    "pipeline.fit(samples)\n",
    "\n",
    "penguins_df[\"cluster\"] = model.labels_\n",
    "centroids = model.cluster_centers_\n",
    "\n",
    "stat_penguins = penguins_df.groupby(\"cluster\").mean(numeric_only=True).reset_index().drop(['cluster', 'sex'], axis=1)\n",
    "\n",
    "\n",
    "stat_penguins"
   ]
  },
  {
   "cell_type": "code",
   "execution_count": 122,
   "id": "97dab0b0",
   "metadata": {},
   "outputs": [
    {
     "data": {
      "image/png": "[encoded data removed]",
      "text/plain": [
       "<Figure size 640x480 with 1 Axes>"
      ]
     },
     "metadata": {},
     "output_type": "display_data"
    }
   ],
   "source": [
    "# and visualize the clusters (here for the 'culmen_length_mm' column)\n",
    "plt.scatter(penguins_df['cluster'], penguins_df['culmen_length_mm'], c=model.labels_, cmap='viridis')\n",
    "plt.xlabel('Cluster')\n",
    "plt.ylabel('culmen_length_mm')\n",
    "plt.xticks(range(int(penguins_df['cluster'].min()), int(penguins_df['cluster'].max()) + 1))\n",
    "plt.title(f'K-means Clustering (K={7})')\n",
    "plt.show()"
   ]
  }
 ],
 "metadata": {
  "colab": {
   "name": "Welcome to DataCamp Workspaces.ipynb",
   "provenance": []
  },
  "editor": "DataLab",
  "kernelspec": {
   "display_name": ".venv",
   "language": "python",
   "name": "python3"
  },
  "language_info": {
   "codemirror_mode": {
    "name": "ipython",
    "version": 3
   },
   "file_extension": ".py",
   "mimetype": "text/x-python",
   "name": "python",
   "nbconvert_exporter": "python",
   "pygments_lexer": "ipython3",
   "version": "3.12.9"
  }
 },
 "nbformat": 4,
 "nbformat_minor": 5
}
