{
 "cells": [
  {
   "cell_type": "markdown",
   "id": "b4ae5707-109f-4cd6-8168-88cac0179d6b",
   "metadata": {},
   "source": [
    "![dvd_image](./Images/dvd_image.jpg)\n",
    "\n",
    "A DVD rental company needs your help! They want to figure out how many days a customer will rent a DVD for based on some features and has approached you for help. They want you to try out some regression models which will help predict the number of days a customer will rent a DVD for. The company wants a model which yeilds a MSE of 3 or less on a test set. The model you make will help the company become more efficient inventory planning.\n",
    "\n",
    "The data they provided is in the csv file `rental_info.csv`. It has the following features:\n",
    "- `\"rental_date\"`: The date (and time) the customer rents the DVD.\n",
    "- `\"return_date\"`: The date (and time) the customer returns the DVD.\n",
    "- `\"amount\"`: The amount paid by the customer for renting the DVD.\n",
    "- `\"amount_2\"`: The square of `\"amount\"`.\n",
    "- `\"rental_rate\"`: The rate at which the DVD is rented for.\n",
    "- `\"rental_rate_2\"`: The square of `\"rental_rate\"`.\n",
    "- `\"release_year\"`: The year the movie being rented was released.\n",
    "- `\"length\"`: Lenght of the movie being rented, in minuites.\n",
    "- `\"length_2\"`: The square of `\"length\"`.\n",
    "- `\"replacement_cost\"`: The amount it will cost the company to replace the DVD.\n",
    "- `\"special_features\"`: Any special features, for example trailers/deleted scenes that the DVD also has.\n",
    "- `\"NC-17\"`, `\"PG\"`, `\"PG-13\"`, `\"R\"`: These columns are dummy variables of the rating of the movie. It takes the value 1 if the move is rated as the column name and 0 otherwise. For your convinience, the reference dummy has already been dropped."
   ]
  },
  {
   "cell_type": "code",
   "execution_count": 98,
   "id": "a7ede566-910a-445c-b11a-68d192ac8506",
   "metadata": {
    "executionCancelledAt": null,
    "executionTime": 178,
    "lastExecutedAt": 1686931416969,
    "lastScheduledRunId": null,
    "lastSuccessfullyExecutedCode": "# Start your coding from below\nimport pandas as pd\nimport numpy as np\n\nfrom sklearn.model_selection import train_test_split\nfrom sklearn.metrics import mean_squared_error"
   },
   "outputs": [],
   "source": [
    "import pandas as pd\n",
    "import numpy as np\n",
    "\n",
    "from sklearn.model_selection import train_test_split\n",
    "from sklearn.metrics import mean_squared_error as MSE\n",
    "from sklearn.model_selection import GridSearchCV\n",
    "from sklearn.ensemble import RandomForestRegressor\n",
    "from sklearn.linear_model import Lasso, LinearRegression\n"
   ]
  },
  {
   "cell_type": "code",
   "execution_count": 99,
   "id": "e4cd3452",
   "metadata": {},
   "outputs": [
    {
     "data": {
      "application/vnd.microsoft.datawrangler.viewer.v0+json": {
       "columns": [
        {
         "name": "index",
         "rawType": "int64",
         "type": "integer"
        },
        {
         "name": "amount",
         "rawType": "float64",
         "type": "float"
        },
        {
         "name": "release_year",
         "rawType": "float64",
         "type": "float"
        },
        {
         "name": "rental_rate",
         "rawType": "float64",
         "type": "float"
        },
        {
         "name": "length",
         "rawType": "float64",
         "type": "float"
        },
        {
         "name": "replacement_cost",
         "rawType": "float64",
         "type": "float"
        },
        {
         "name": "NC-17",
         "rawType": "int64",
         "type": "integer"
        },
        {
         "name": "PG",
         "rawType": "int64",
         "type": "integer"
        },
        {
         "name": "PG-13",
         "rawType": "int64",
         "type": "integer"
        },
        {
         "name": "R",
         "rawType": "int64",
         "type": "integer"
        },
        {
         "name": "behind_the_scenes",
         "rawType": "int64",
         "type": "integer"
        },
        {
         "name": "deleted_scenes",
         "rawType": "int64",
         "type": "integer"
        },
        {
         "name": "rental_length_days",
         "rawType": "int64",
         "type": "integer"
        }
       ],
       "ref": "761c4bc9-6e96-44d0-aeba-3aeff7ae097f",
       "rows": [
        [
         "0",
         "2.99",
         "2005.0",
         "2.99",
         "126.0",
         "16.99",
         "0",
         "0",
         "0",
         "1",
         "1",
         "0",
         "3"
        ],
        [
         "1",
         "2.99",
         "2005.0",
         "2.99",
         "126.0",
         "16.99",
         "0",
         "0",
         "0",
         "1",
         "1",
         "0",
         "2"
        ],
        [
         "2",
         "2.99",
         "2005.0",
         "2.99",
         "126.0",
         "16.99",
         "0",
         "0",
         "0",
         "1",
         "1",
         "0",
         "7"
        ],
        [
         "3",
         "2.99",
         "2005.0",
         "2.99",
         "126.0",
         "16.99",
         "0",
         "0",
         "0",
         "1",
         "1",
         "0",
         "2"
        ],
        [
         "4",
         "2.99",
         "2005.0",
         "2.99",
         "126.0",
         "16.99",
         "0",
         "0",
         "0",
         "1",
         "1",
         "0",
         "4"
        ]
       ],
       "shape": {
        "columns": 12,
        "rows": 5
       }
      },
      "text/html": [
       "<div>\n",
       "<style scoped>\n",
       "    .dataframe tbody tr th:only-of-type {\n",
       "        vertical-align: middle;\n",
       "    }\n",
       "\n",
       "    .dataframe tbody tr th {\n",
       "        vertical-align: top;\n",
       "    }\n",
       "\n",
       "    .dataframe thead th {\n",
       "        text-align: right;\n",
       "    }\n",
       "</style>\n",
       "<table border=\"1\" class=\"dataframe\">\n",
       "  <thead>\n",
       "    <tr style=\"text-align: right;\">\n",
       "      <th></th>\n",
       "      <th>amount</th>\n",
       "      <th>release_year</th>\n",
       "      <th>rental_rate</th>\n",
       "      <th>length</th>\n",
       "      <th>replacement_cost</th>\n",
       "      <th>NC-17</th>\n",
       "      <th>PG</th>\n",
       "      <th>PG-13</th>\n",
       "      <th>R</th>\n",
       "      <th>behind_the_scenes</th>\n",
       "      <th>deleted_scenes</th>\n",
       "      <th>rental_length_days</th>\n",
       "    </tr>\n",
       "  </thead>\n",
       "  <tbody>\n",
       "    <tr>\n",
       "      <th>0</th>\n",
       "      <td>2.99</td>\n",
       "      <td>2005.0</td>\n",
       "      <td>2.99</td>\n",
       "      <td>126.0</td>\n",
       "      <td>16.99</td>\n",
       "      <td>0</td>\n",
       "      <td>0</td>\n",
       "      <td>0</td>\n",
       "      <td>1</td>\n",
       "      <td>1</td>\n",
       "      <td>0</td>\n",
       "      <td>3</td>\n",
       "    </tr>\n",
       "    <tr>\n",
       "      <th>1</th>\n",
       "      <td>2.99</td>\n",
       "      <td>2005.0</td>\n",
       "      <td>2.99</td>\n",
       "      <td>126.0</td>\n",
       "      <td>16.99</td>\n",
       "      <td>0</td>\n",
       "      <td>0</td>\n",
       "      <td>0</td>\n",
       "      <td>1</td>\n",
       "      <td>1</td>\n",
       "      <td>0</td>\n",
       "      <td>2</td>\n",
       "    </tr>\n",
       "    <tr>\n",
       "      <th>2</th>\n",
       "      <td>2.99</td>\n",
       "      <td>2005.0</td>\n",
       "      <td>2.99</td>\n",
       "      <td>126.0</td>\n",
       "      <td>16.99</td>\n",
       "      <td>0</td>\n",
       "      <td>0</td>\n",
       "      <td>0</td>\n",
       "      <td>1</td>\n",
       "      <td>1</td>\n",
       "      <td>0</td>\n",
       "      <td>7</td>\n",
       "    </tr>\n",
       "    <tr>\n",
       "      <th>3</th>\n",
       "      <td>2.99</td>\n",
       "      <td>2005.0</td>\n",
       "      <td>2.99</td>\n",
       "      <td>126.0</td>\n",
       "      <td>16.99</td>\n",
       "      <td>0</td>\n",
       "      <td>0</td>\n",
       "      <td>0</td>\n",
       "      <td>1</td>\n",
       "      <td>1</td>\n",
       "      <td>0</td>\n",
       "      <td>2</td>\n",
       "    </tr>\n",
       "    <tr>\n",
       "      <th>4</th>\n",
       "      <td>2.99</td>\n",
       "      <td>2005.0</td>\n",
       "      <td>2.99</td>\n",
       "      <td>126.0</td>\n",
       "      <td>16.99</td>\n",
       "      <td>0</td>\n",
       "      <td>0</td>\n",
       "      <td>0</td>\n",
       "      <td>1</td>\n",
       "      <td>1</td>\n",
       "      <td>0</td>\n",
       "      <td>4</td>\n",
       "    </tr>\n",
       "  </tbody>\n",
       "</table>\n",
       "</div>"
      ],
      "text/plain": [
       "   amount  release_year  rental_rate  length  replacement_cost  NC-17  PG  \\\n",
       "0    2.99        2005.0         2.99   126.0             16.99      0   0   \n",
       "1    2.99        2005.0         2.99   126.0             16.99      0   0   \n",
       "2    2.99        2005.0         2.99   126.0             16.99      0   0   \n",
       "3    2.99        2005.0         2.99   126.0             16.99      0   0   \n",
       "4    2.99        2005.0         2.99   126.0             16.99      0   0   \n",
       "\n",
       "   PG-13  R  behind_the_scenes  deleted_scenes  rental_length_days  \n",
       "0      0  1                  1               0                   3  \n",
       "1      0  1                  1               0                   2  \n",
       "2      0  1                  1               0                   7  \n",
       "3      0  1                  1               0                   2  \n",
       "4      0  1                  1               0                   4  "
      ]
     },
     "execution_count": 99,
     "metadata": {},
     "output_type": "execute_result"
    }
   ],
   "source": [
    "rental_df = pd.read_csv('./Dataset/rental_info.csv')\n",
    "rental_df.head()\n",
    "\n",
    "rental_df['special_features'] = rental_df['special_features'].str.lower().str.replace(r'[{}\"\\']', '', regex=True)\n",
    "\n",
    "special_features_dummies = rental_df['special_features'].str.get_dummies(sep=',')\n",
    "special_features_dummies = special_features_dummies.rename(columns={'deleted scenes': 'deleted_scenes', 'behind the scenes': 'behind_the_scenes'})\n",
    "special_features_dummies = special_features_dummies.drop(['commentaries','trailers'], axis=1)\n",
    "\n",
    "rental_df = pd.concat([rental_df, special_features_dummies], axis=1)\n",
    "\n",
    "rental_df['rental_date'] = pd.to_datetime(rental_df['rental_date'])\n",
    "rental_df['return_date'] = pd.to_datetime(rental_df['return_date'])\n",
    "\n",
    "rental_df['rental_length_days'] = (rental_df['return_date']-rental_df['rental_date']).dt.days\n",
    "rental_df = rental_df.drop(['special_features','rental_date','return_date'], axis=1)\n",
    "rental_df = rental_df.drop(['length_2','rental_rate_2','amount_2'], axis=1)\n",
    "rental_df.head()"
   ]
  },
  {
   "cell_type": "code",
   "execution_count": 100,
   "id": "b2fd3706",
   "metadata": {},
   "outputs": [
    {
     "data": {
      "application/vnd.microsoft.datawrangler.viewer.v0+json": {
       "columns": [
        {
         "name": "index",
         "rawType": "object",
         "type": "string"
        },
        {
         "name": "0",
         "rawType": "int64",
         "type": "integer"
        }
       ],
       "ref": "48c1ab87-26fe-4781-b8fa-6a9c6a2c2780",
       "rows": [
        [
         "amount",
         "0"
        ],
        [
         "release_year",
         "0"
        ],
        [
         "rental_rate",
         "0"
        ],
        [
         "length",
         "0"
        ],
        [
         "replacement_cost",
         "0"
        ],
        [
         "NC-17",
         "0"
        ],
        [
         "PG",
         "0"
        ],
        [
         "PG-13",
         "0"
        ],
        [
         "R",
         "0"
        ],
        [
         "behind_the_scenes",
         "0"
        ],
        [
         "deleted_scenes",
         "0"
        ],
        [
         "rental_length_days",
         "0"
        ]
       ],
       "shape": {
        "columns": 1,
        "rows": 12
       }
      },
      "text/plain": [
       "amount                0\n",
       "release_year          0\n",
       "rental_rate           0\n",
       "length                0\n",
       "replacement_cost      0\n",
       "NC-17                 0\n",
       "PG                    0\n",
       "PG-13                 0\n",
       "R                     0\n",
       "behind_the_scenes     0\n",
       "deleted_scenes        0\n",
       "rental_length_days    0\n",
       "dtype: int64"
      ]
     },
     "execution_count": 100,
     "metadata": {},
     "output_type": "execute_result"
    }
   ],
   "source": [
    "rental_df.isna().sum()"
   ]
  },
  {
   "cell_type": "code",
   "execution_count": 101,
   "id": "7c4b77fb",
   "metadata": {},
   "outputs": [],
   "source": [
    "X = rental_df.drop('rental_length_days', axis=1)\n",
    "y = rental_df['rental_length_days']\n",
    "\n",
    "X_train, X_test, y_train, y_test = train_test_split(X, y, random_state=9, test_size=0.2)"
   ]
  },
  {
   "cell_type": "code",
   "execution_count": 111,
   "id": "eb2566a6",
   "metadata": {},
   "outputs": [
    {
     "name": "stdout",
     "output_type": "stream",
     "text": [
      "Fitting 3 folds for each of 27 candidates, totalling 81 fits\n"
     ]
    },
    {
     "name": "stderr",
     "output_type": "stream",
     "text": [
      "c:\\Work\\AI\\.venv\\Lib\\site-packages\\sklearn\\model_selection\\_validation.py:528: FitFailedWarning: \n",
      "27 fits failed out of a total of 81.\n",
      "The score on these train-test partitions for these parameters will be set to nan.\n",
      "If these failures are not expected, you can try to debug them by setting error_score='raise'.\n",
      "\n",
      "Below are more details about the failures:\n",
      "--------------------------------------------------------------------------------\n",
      "27 fits failed with the following error:\n",
      "Traceback (most recent call last):\n",
      "  File \"c:\\Work\\AI\\.venv\\Lib\\site-packages\\sklearn\\model_selection\\_validation.py\", line 866, in _fit_and_score\n",
      "    estimator.fit(X_train, y_train, **fit_params)\n",
      "  File \"c:\\Work\\AI\\.venv\\Lib\\site-packages\\sklearn\\base.py\", line 1382, in wrapper\n",
      "    estimator._validate_params()\n",
      "  File \"c:\\Work\\AI\\.venv\\Lib\\site-packages\\sklearn\\base.py\", line 436, in _validate_params\n",
      "    validate_parameter_constraints(\n",
      "  File \"c:\\Work\\AI\\.venv\\Lib\\site-packages\\sklearn\\utils\\_param_validation.py\", line 98, in validate_parameter_constraints\n",
      "    raise InvalidParameterError(\n",
      "sklearn.utils._param_validation.InvalidParameterError: The 'max_features' parameter of RandomForestRegressor must be an int in the range [1, inf), a float in the range (0.0, 1.0], a str among {'sqrt', 'log2'} or None. Got 'auto' instead.\n",
      "\n",
      "  warnings.warn(some_fits_failed_message, FitFailedWarning)\n",
      "c:\\Work\\AI\\.venv\\Lib\\site-packages\\sklearn\\model_selection\\_search.py:1108: UserWarning: One or more of the test scores are non-finite: [-2.12278937 -2.1215758  -2.11902802 -2.4025236  -2.40848111 -2.41188296\n",
      " -2.75159908 -2.70374244 -2.73759797         nan         nan         nan\n",
      "         nan         nan         nan         nan         nan         nan\n",
      " -2.13295883 -2.1192127  -2.11970621 -2.40494355 -2.41855142 -2.41736782\n",
      " -2.749734   -2.72404582 -2.72489926]\n",
      "  warnings.warn(\n"
     ]
    },
    {
     "name": "stdout",
     "output_type": "stream",
     "text": [
      "Best rf model: RandomForestRegressor(max_features='log2', min_samples_leaf=2, n_estimators=500)\n",
      "Test MSE of best model: 2.021\n"
     ]
    }
   ],
   "source": [
    "params_rf = {\n",
    "    'n_estimators':[100, 350, 500],\n",
    "    'max_features':['log2', 'auto', 'sqrt'],\n",
    "    'min_samples_leaf':[2,10,30] \n",
    "}\n",
    "\n",
    "rf = RandomForestRegressor()\n",
    "\n",
    "grid_rf = GridSearchCV(estimator=rf,\n",
    "                       param_grid=params_rf,\n",
    "                       scoring='neg_mean_squared_error',\n",
    "                       cv=3,\n",
    "                       verbose=1,\n",
    "                       n_jobs=-1)\n",
    "\n",
    "grid_rf.fit(X_train, y_train)\n",
    "\n",
    "rf_model = grid_rf.best_estimator_\n",
    "\n",
    "y_pred = rf_model.predict(X_test)\n",
    "\n",
    "rf_mse = MSE(y_test,y_pred)\n",
    "\n",
    "print('Best rf model: {}'.format(rf_model)) \n",
    "print('Test MSE of best model: {:.3f}'.format(rf_mse)) "
   ]
  },
  {
   "cell_type": "code",
   "execution_count": 103,
   "id": "3c42cd8e",
   "metadata": {},
   "outputs": [
    {
     "name": "stdout",
     "output_type": "stream",
     "text": [
      "Best lin_reg model: LinearRegression()\n",
      "Test MSE of best model: 4.842\n"
     ]
    }
   ],
   "source": [
    "lasso = Lasso(alpha=0.3, random_state=9) \n",
    "\n",
    "lasso.fit(X_train, y_train)\n",
    "lasso_coef = lasso.coef_\n",
    "\n",
    "# Perform feature selectino by choosing columns with positive coefficients\n",
    "X_lasso_train, X_lasso_test = X_train.iloc[:, lasso_coef > 0], X_test.iloc[:, lasso_coef > 0]\n",
    "\n",
    "# Run OLS models on lasso chosen regression\n",
    "lin_reg = LinearRegression()\n",
    "lin_reg = lin_reg.fit(X_lasso_train, y_train)\n",
    "y_test_pred = lin_reg.predict(X_lasso_test)\n",
    "mse_lin_reg = MSE(y_test, y_test_pred)\n",
    "\n",
    "print('Best lin_reg model: {}'.format(lin_reg)) \n",
    "print('Test MSE of best model: {:.3f}'.format(mse_lin_reg)) "
   ]
  },
  {
   "cell_type": "code",
   "execution_count": 113,
   "id": "24334617",
   "metadata": {},
   "outputs": [
    {
     "name": "stdout",
     "output_type": "stream",
     "text": [
      "Best model: RandomForestRegressor(max_features='log2', min_samples_leaf=2, n_estimators=500)\n",
      "Test MSE of best model: 2.021\n"
     ]
    }
   ],
   "source": [
    "best_model = rf_model\n",
    "best_mse = rf_mse\n",
    "\n",
    "print('Best model: {}'.format(best_model)) \n",
    "print('Test MSE of best model: {:.3f}'.format(best_mse)) \n"
   ]
  }
 ],
 "metadata": {
  "colab": {
   "name": "Welcome to DataCamp Workspaces.ipynb",
   "provenance": []
  },
  "kernelspec": {
   "display_name": ".venv",
   "language": "python",
   "name": "python3"
  },
  "language_info": {
   "codemirror_mode": {
    "name": "ipython",
    "version": 3
   },
   "file_extension": ".py",
   "mimetype": "text/x-python",
   "name": "python",
   "nbconvert_exporter": "python",
   "pygments_lexer": "ipython3",
   "version": "3.12.9"
  }
 },
 "nbformat": 4,
 "nbformat_minor": 5
}
